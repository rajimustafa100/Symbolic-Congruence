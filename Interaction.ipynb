{
  "nbformat": 4,
  "nbformat_minor": 0,
  "metadata": {
    "colab": {
      "provenance": [],
      "authorship_tag": "ABX9TyPRJ2OF/ToaytR9KhBffvTY",
      "include_colab_link": true
    },
    "kernelspec": {
      "name": "python3",
      "display_name": "Python 3"
    },
    "language_info": {
      "name": "python"
    }
  },
  "cells": [
    {
      "cell_type": "markdown",
      "metadata": {
        "id": "view-in-github",
        "colab_type": "text"
      },
      "source": [
        "<a href=\"https://colab.research.google.com/github/rajimustafa100/Symbolic-Congruence/blob/main/Interaction.ipynb\" target=\"_parent\"><img src=\"https://colab.research.google.com/assets/colab-badge.svg\" alt=\"Open In Colab\"/></a>"
      ]
    },
    {
      "cell_type": "code",
      "execution_count": null,
      "metadata": {
        "id": "-ICFzGvZVpQo"
      },
      "outputs": [],
      "source": [
        "!pip install rapidfuzz\n",
        "import nltk\n",
        "nltk.download(\"vader_lexicon\")\n"
      ]
    },
    {
      "cell_type": "code",
      "source": [
        "from google.colab import files\n",
        "\n",
        "# Upload metadata.json and reviews.json files\n",
        "uploaded = files.upload()\n",
        "\n"
      ],
      "metadata": {
        "id": "LhFaLS1NWmmm"
      },
      "execution_count": null,
      "outputs": []
    },
    {
      "cell_type": "code",
      "source": [
        "from google.colab import files\n",
        "\n",
        "# Upload metadata.json and reviews.json files\n",
        "uploaded = files.upload()\n",
        "\n"
      ],
      "metadata": {
        "id": "vBUgzKCbkUAY"
      },
      "execution_count": null,
      "outputs": []
    },
    {
      "cell_type": "code",
      "source": [
        "import pandas as pd\n",
        "# Load metadata and reviews\n",
        "metadata = pd.read_json(\"metadata.json\", lines=True)\n",
        "reviews = pd.read_json(\"reviews.json\", lines=True)\n"
      ],
      "metadata": {
        "id": "3SVpZF51Wt4P"
      },
      "execution_count": null,
      "outputs": []
    },
    {
      "cell_type": "code",
      "source": [
        "# Filter US-based reviews\n",
        "us_reviews = reviews[reviews['reviewerLocation'].str.contains(\"USA|United States|US\", na=False)]\n"
      ],
      "metadata": {
        "id": "sCclOAnOW1rM"
      },
      "execution_count": null,
      "outputs": []
    },
    {
      "cell_type": "code",
      "source": [
        "# Merge on 'asin'\n",
        "df = pd.merge(us_reviews, metadata, on='asin')\n"
      ],
      "metadata": {
        "id": "acfB2eSkW8Fr"
      },
      "execution_count": null,
      "outputs": []
    },
    {
      "cell_type": "code",
      "source": [
        "# Keep only products with >= 30 reviews\n",
        "eligible_asins = df['asin'].value_counts()[df['asin'].value_counts() >= 30].index\n",
        "df = df[df['asin'].isin(eligible_asins)]\n",
        "\n"
      ],
      "metadata": {
        "id": "fqjon4lDXB9S"
      },
      "execution_count": null,
      "outputs": []
    },
    {
      "cell_type": "code",
      "source": [
        "from rapidfuzz import process, fuzz\n",
        "# Define brand lookup lists (expandable)\n",
        "global_brands = [\"Apple\", \"Samsung\", \"Sony\", \"Microsoft\", \"Nestlé\"]\n",
        "local_brands = [\"Trader Joe's\", \"Kroger\", \"HEB\", \"Meijer\", \"Publix\"]\n"
      ],
      "metadata": {
        "id": "nZlvldf-XCWi"
      },
      "execution_count": null,
      "outputs": []
    },
    {
      "cell_type": "code",
      "source": [
        "def classify_brand(brand_name):\n",
        "    if pd.isna(brand_name):\n",
        "        return \"Unclassified\"\n",
        "    global_match = process.extractOne(brand_name, global_brands, scorer=fuzz.token_sort_ratio)\n",
        "    local_match = process.extractOne(brand_name, local_brands, scorer=fuzz.token_sort_ratio)\n",
        "    if global_match and global_match[1] >= 85:\n",
        "        return \"Global\"\n",
        "    elif local_match and local_match[1] >= 85:\n",
        "        return \"Local\"\n",
        "    else:\n",
        "        return \"Unclassified\"\n",
        "df['Brand Origin'] = df['brand'].apply(classify_brand)\n",
        "df = df[df['Brand Origin'] != \"Unclassified\"]\n"
      ],
      "metadata": {
        "id": "I47BkzoVXWTw"
      },
      "execution_count": null,
      "outputs": []
    },
    {
      "cell_type": "code",
      "source": [
        "# Define temporal lexicons\n",
        "past_keywords = [\n",
        "    \"heritage\", \"traditional\", \"since\", \"established\", \"legacy\",\n",
        "    \"classic\", \"vintage\", \"timeless\", \"retro\", \"crafted\",\n",
        "    \"roots\", \"decades\", \"century\"\n",
        "]\n",
        "\n",
        "future_keywords = [\n",
        "    \"future\", \"next-gen\", \"innovation\", \"cutting-edge\", \"modern\",\n",
        "    \"upcoming\", \"advanced\", \"revolutionary\", \"smart\", \"AI-powered\",\n",
        "    \"2025\", \"latest\", \"forward\"\n",
        "]\n"
      ],
      "metadata": {
        "id": "lyPgKQFWXVcD"
      },
      "execution_count": null,
      "outputs": []
    },
    {
      "cell_type": "code",
      "source": [
        "def detect_temporal_framing(text):\n",
        "    if pd.isna(text): return \"Unclassified\"\n",
        "    text = text.lower()\n",
        "    past_hits = sum(1 for word in past_keywords if word in text)\n",
        "    future_hits = sum(1 for word in future_keywords if word in text)\n",
        "    if past_hits > future_hits:\n",
        "        return \"Past\"\n",
        "    elif future_hits > past_hits:\n",
        "        return \"Future\"\n",
        "    else:\n",
        "        return \"Unclassified\"\n"
      ],
      "metadata": {
        "id": "A8jVfdkZa_Fq"
      },
      "execution_count": null,
      "outputs": []
    },
    {
      "cell_type": "code",
      "source": [
        "df['Temporal Frame'] = df['title'].apply(detect_temporal_framing)\n",
        "df = df[df['Temporal Frame'] != \"Unclassified\"]\n",
        "from nltk.sentiment.vader import SentimentIntensityAnalyzer\n",
        "import numpy as np\n",
        "sid = SentimentIntensityAnalyzer()\n",
        "def compute_sentiment(texts):\n",
        "    scores = [sid.polarity_scores(str(text))['compound'] for text in texts]\n",
        "    return np.mean(scores)\n",
        "\n",
        "grouped = df.groupby(['asin', 'Brand Origin', 'Temporal Frame'])\n",
        "\n",
        "results = grouped.agg({\n",
        "    'overall': 'mean',\n",
        "    'reviewText': compute_sentiment\n",
        "}).reset_index()\n",
        "\n",
        "results.columns = ['ASIN', 'Brand Origin', 'Temporal Frame', 'Average Star Rating', 'Average Sentiment Score']\n",
        "results.to_csv(\"clean_symbolic_congruence_dataset.csv\", index=False)\n",
        "files.download(\"clean_symbolic_congruence_dataset.csv\")\n"
      ],
      "metadata": {
        "id": "Nm0eCg5Ya_WH"
      },
      "execution_count": null,
      "outputs": []
    },
    {
      "cell_type": "markdown",
      "source": [
        "IMPORT REQUIRED LIBRARIES"
      ],
      "metadata": {
        "id": "KTjACr1o1iDD"
      }
    },
    {
      "cell_type": "code",
      "source": [
        "import pandas as pd\n",
        "import numpy as np\n",
        "from scipy.stats import ttest_ind\n",
        "from statsmodels.formula.api import ols\n",
        "import statsmodels.api as sm\n"
      ],
      "metadata": {
        "id": "ojMYIJ951avR"
      },
      "execution_count": null,
      "outputs": []
    },
    {
      "cell_type": "markdown",
      "source": [
        "LOAD SIMULATED DATA"
      ],
      "metadata": {
        "id": "c9E_oqhD11ty"
      }
    },
    {
      "cell_type": "code",
      "source": [
        "df = pd.read_csv(\"/content/clean_symbolic_congruence_dataset.csv\")"
      ],
      "metadata": {
        "id": "HFGt-vzJ10c2"
      },
      "execution_count": null,
      "outputs": []
    },
    {
      "cell_type": "markdown",
      "source": [
        "CREATE SYMBOLIC CONGRUENCE VARIABLE"
      ],
      "metadata": {
        "id": "uMuw1wYQWL2O"
      }
    },
    {
      "cell_type": "code",
      "source": [
        "df[\"Symbolic Congruence\"] = df.apply(\n",
        "    lambda x: \"Congruent\" if (x[\"Brand Origin\"] == \"Global\" and x[\"Temporal Frame\"] == \"Future\") or\n",
        "                               (x[\"Brand Origin\"] == \"Local\" and x[\"Temporal Frame\"] == \"Past\")\n",
        "              else \"Incongruent\",\n",
        "    axis=1\n",
        ")\n",
        "\n"
      ],
      "metadata": {
        "id": "kyfP607cV6o_"
      },
      "execution_count": null,
      "outputs": []
    },
    {
      "cell_type": "markdown",
      "source": [
        "ANOVA STAR RATINGS"
      ],
      "metadata": {
        "id": "T9j-q4MEWHX9"
      }
    },
    {
      "cell_type": "code",
      "source": [
        "from statsmodels.formula.api import ols\n",
        "import statsmodels.api as sm\n",
        "\n",
        "model_star = ols(\"Q('Average Star Rating') ~ C(Q('Brand Origin')) * C(Q('Temporal Frame'))\", data=results).fit()\n",
        "anova_star = sm.stats.anova_lm(model_star, typ=2)"
      ],
      "metadata": {
        "id": "LFcty0f8WOZh"
      },
      "execution_count": null,
      "outputs": []
    },
    {
      "cell_type": "markdown",
      "source": [
        "ANOVA SENTIMENT SCORE\n"
      ],
      "metadata": {
        "id": "8hB0nlKlWZLC"
      }
    },
    {
      "cell_type": "code",
      "source": [
        "model_sent = ols(\"Q('Average Sentiment Score') ~ C(Q('Brand Origin')) * C(Q('Temporal Frame'))\", data=results).fit()\n",
        "anova_sent = sm.stats.anova_lm(model_sent, typ=2)"
      ],
      "metadata": {
        "id": "J9GvgNT9WbI8"
      },
      "execution_count": null,
      "outputs": []
    },
    {
      "cell_type": "markdown",
      "source": [
        "ADD CONTROL VARIABLES"
      ],
      "metadata": {
        "id": "ZHiFFmXZZq6D"
      }
    },
    {
      "cell_type": "code",
      "source": [
        "np.random.seed(42)\n",
        "df['Category'] = np.random.choice(['Electronics', 'Food', 'Cosmetics'], size=len(df))\n",
        "df['Review Count'] = np.random.randint(30, 500, size=len(df))\n",
        "\n",
        "dummies = pd.get_dummies(df['Category'], drop_first=True)\n",
        "df = pd.concat([df, dummies], axis=1)"
      ],
      "metadata": {
        "id": "rD_KDcT_ZP2Q"
      },
      "execution_count": null,
      "outputs": []
    },
    {
      "cell_type": "code",
      "source": [
        "np.random.seed(42)\n",
        "df['Category'] = np.random.choice(['Electronics', 'Food', 'Cosmetics'], size=len(df))\n",
        "df['Review Count'] = np.random.randint(30, 500, size=len(df))\n",
        "\n",
        "dummies = pd.get_dummies(df['Category'], drop_first=True)\n",
        "df = pd.concat([df, dummies], axis=1)"
      ],
      "metadata": {
        "id": "fLxqCOD1Z4a9"
      },
      "execution_count": null,
      "outputs": []
    },
    {
      "cell_type": "markdown",
      "source": [
        "REGRESSION STAR RATING"
      ],
      "metadata": {
        "id": "duc1BuMnZ-bh"
      }
    },
    {
      "cell_type": "code",
      "source": [
        "reg_star = ols(\"Q('Average Star Rating') ~ C(Q('Brand Origin')) * C(Q('Temporal Frame')) + Q('Review Count') + Food + Electronics\", data=df).fit()"
      ],
      "metadata": {
        "id": "n2TD_AcPaIDa"
      },
      "execution_count": null,
      "outputs": []
    },
    {
      "cell_type": "markdown",
      "source": [
        " REGRESSION SENTIMENT SCORE"
      ],
      "metadata": {
        "id": "6cPSjIQMaS7m"
      }
    },
    {
      "cell_type": "code",
      "source": [
        "reg_sent = ols(\"Q('Average Sentiment Score') ~ C(Q('Brand Origin')) * C(Q('Temporal Frame')) + Q('Review Count') + Food + Electronics\", data=df).fit()"
      ],
      "metadata": {
        "id": "DhTNKQ4VaM75"
      },
      "execution_count": null,
      "outputs": []
    },
    {
      "cell_type": "markdown",
      "source": [
        "PRINT RESULTS"
      ],
      "metadata": {
        "id": "4PSwbgtqbSTl"
      }
    },
    {
      "cell_type": "code",
      "source": [
        "print(\"=== ANOVA Results: Star Ratings ===\")\n",
        "print(anova_star, \"\\n\")\n",
        "\n",
        "\n"
      ],
      "metadata": {
        "id": "ZvwnfisGbUte"
      },
      "execution_count": null,
      "outputs": []
    },
    {
      "cell_type": "code",
      "source": [
        "print(\"=== ANOVA Results: Sentiment Score ===\")\n",
        "print(anova_sent, \"\\n\")\n"
      ],
      "metadata": {
        "id": "3CNlLVMVcgKY"
      },
      "execution_count": null,
      "outputs": []
    },
    {
      "cell_type": "code",
      "source": [
        "print(\"=== OLS Regression: Sentiment Score ===\")\n",
        "print(reg_sent.summary())\n"
      ],
      "metadata": {
        "id": "p2TlRhOfdmom"
      },
      "execution_count": null,
      "outputs": []
    },
    {
      "cell_type": "code",
      "metadata": {
        "id": "26021e18"
      },
      "source": [
        "print(results.groupby(['Brand Origin', 'Temporal Frame']).size())"
      ],
      "execution_count": null,
      "outputs": []
    },
    {
      "cell_type": "code",
      "metadata": {
        "id": "9290230b"
      },
      "source": [
        "print(merged_df['Symbolic Congruence'].value_counts())"
      ],
      "execution_count": null,
      "outputs": []
    }
  ]
}